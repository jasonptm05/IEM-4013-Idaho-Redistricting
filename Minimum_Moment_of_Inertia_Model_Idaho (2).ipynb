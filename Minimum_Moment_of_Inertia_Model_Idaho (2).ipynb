{
 "cells": [
  {
   "cell_type": "code",
   "execution_count": 63,
   "id": "68e38f19",
   "metadata": {},
   "outputs": [
    {
     "name": "stdout",
     "output_type": "stream",
     "text": [
      "[0, 1, 2, 3, 4, 5, 6, 7, 8, 9, 10, 11, 12, 13, 14, 15, 16, 17, 18, 19, 20, 21, 22, 23, 24, 25, 26, 27, 28, 29, 30, 31, 32, 33, 34, 35, 36, 37, 38, 39, 40, 41, 42, 43]\n"
     ]
    }
   ],
   "source": [
    "import json\n",
    "from networkx.readwrite import json_graph\n",
    "\n",
    "def read_graph_from_json(json_file):\n",
    "    with open(json_file) as f:\n",
    "        data = json.load(f)\n",
    "    return json_graph.adjacency_graph(data)\n",
    "\n",
    "\n",
    "json_file_path = r'C:\\Users\\mohal\\Downloads\\districting_data_extracted\\districting-data-2020-county\\ID_county.json'\n",
    "graph = read_graph_from_json(json_file_path)\n",
    "\n",
    "\n",
    "print(graph.nodes)  "
   ]
  },
  {
   "cell_type": "code",
   "execution_count": 79,
   "id": "422ccb24",
   "metadata": {},
   "outputs": [
    {
     "name": "stdout",
     "output_type": "stream",
     "text": [
      "Node 0 is 0, which has population 7974 and is centered at (-113.8870422, +44.9285059)\n",
      "Node 1 is 1, which has population 494967 and is centered at (-116.2443760, +43.4514767)\n",
      "Node 2 is 2, which has population 24655 and is centered at (-113.6263276, +42.2823130)\n",
      "Node 3 is 3, which has population 4564 and is centered at (-112.5204486, +42.1838954)\n",
      "Node 4 is 4, which has population 8734 and is centered at (-115.6535003, +46.6725700)\n",
      "Node 5 is 5, which has population 7610 and is centered at (-115.7151105, +43.9872749)\n",
      "Node 6 is 6, which has population 25386 and is centered at (-116.7502379, +44.0024300)\n",
      "Node 7 is 7, which has population 13169 and is centered at (-115.8850916, +47.3476935)\n",
      "Node 8 is 8, which has population 13388 and is centered at (-111.4844290, +44.2180909)\n",
      "Node 9 is 9, which has population 3533 and is centered at (-116.4237600, +46.2363277)\n",
      "Node 10 is 10, which has population 87018 and is centered at (-112.2289819, +42.6929211)\n",
      "Node 11 is 11, which has population 90046 and is centered at (-114.6656386, +42.3523090)\n",
      "Node 12 is 12, which has population 11913 and is centered at (-116.1896903, +42.5728508)\n",
      "Node 13 is 13, which has population 10500 and is centered at (-116.7977917, +44.4482229)\n",
      "Node 14 is 14, which has population 39517 and is centered at (-116.7309737, +46.8189202)\n",
      "Node 15 is 15, which has population 15598 and is centered at (-114.8214203, +42.9731849)\n",
      "Node 16 is 16, which has population 7027 and is centered at (-111.5442734, +42.7860724)\n",
      "Node 17 is 17, which has population 12056 and is centered at (-116.5246676, +48.7731313)\n",
      "Node 18 is 18, which has population 6372 and is centered at (-111.3275168, +42.2858922)\n",
      "Node 19 is 19, which has population 5127 and is centered at (-114.1530888, +42.9907824)\n",
      "Node 20 is 20, which has population 1077 and is centered at (-114.7721349, +43.5025515)\n",
      "Node 21 is 21, which has population 231105 and is centered at (-116.7090580, +43.6257956)\n",
      "Node 22 is 22, which has population 30891 and is centered at (-112.3185879, +43.7969649)\n",
      "Node 23 is 23, which has population 171362 and is centered at (-116.6959192, +47.6759569)\n",
      "Node 24 is 24, which has population 19123 and is centered at (-116.3987839, +44.0614727)\n",
      "Node 25 is 25, which has population 14194 and is centered at (-111.8229653, +42.1736093)\n",
      "Node 26 is 26, which has population 52913 and is centered at (-111.6569925, +43.7886140)\n",
      "Node 27 is 27, which has population 790 and is centered at (-112.3546128, +44.2902180)\n",
      "Node 28 is 28, which has population 24237 and is centered at (-114.2620858, +42.6913953)\n",
      "Node 29 is 29, which has population 4275 and is centered at (-114.2522675, +44.2733510)\n",
      "Node 30 is 30, which has population 123964 and is centered at (-111.6218783, +43.3951708)\n",
      "Node 31 is 31, which has population 16541 and is centered at (-115.4673371, +45.8496440)\n",
      "Node 32 is 32, which has population 11630 and is centered at (-111.2117653, +43.7609939)\n",
      "Node 33 is 33, which has population 7878 and is centered at (-112.8444070, +42.6941260)\n",
      "Node 34 is 34, which has population 24272 and is centered at (-113.9553713, +43.3941920)\n",
      "Node 35 is 35, which has population 28666 and is centered at (-115.4712050, +43.3946984)\n",
      "Node 36 is 36, which has population 9530 and is centered at (-116.6335414, +47.2184513)\n",
      "Node 37 is 37, which has population 42090 and is centered at (-116.7609091, +46.3337914)\n",
      "Node 38 is 38, which has population 2574 and is centered at (-113.1776308, +43.6851010)\n",
      "Node 39 is 39, which has population 4379 and is centered at (-116.4616241, +44.8770040)\n",
      "Node 40 is 40, which has population 11746 and is centered at (-115.6180612, +44.8559596)\n",
      "Node 41 is 41, which has population 21613 and is centered at (-113.6398404, +42.8572114)\n",
      "Node 42 is 42, which has population 47110 and is centered at (-116.6123620, +48.3167955)\n",
      "Node 43 is 43, which has population 47992 and is centered at (-112.3992058, +43.2163568)\n"
     ]
    }
   ],
   "source": [
    "\n",
    "for node, data in G.nodes(data=True):\n",
    "    county_name = node  \n",
    "    population = data.get('TOTPOP', 'N/A')  \n",
    "    latitude = data.get('C_Y', 'N/A')  \n",
    "    longitude = data.get('C_X', 'N/A')  \n",
    "    \n",
    "    \n",
    "    print(f\"Node {node} is {county_name}, which has population {population} and is centered at ({longitude}, {latitude})\")\n",
    "\n"
   ]
  },
  {
   "cell_type": "code",
   "execution_count": 80,
   "id": "5133e1cd",
   "metadata": {},
   "outputs": [
    {
     "name": "stdout",
     "output_type": "stream",
     "text": [
      "Distance between node 0 and node 1: 155.2759354316712 miles\n"
     ]
    }
   ],
   "source": [
    "from geopy.distance import geodesic\n",
    "\n",
    "\n",
    "dist = { (i, j): 0 for i in G.nodes for j in G.nodes }\n",
    "\n",
    "\n",
    "for i in G.nodes:\n",
    "    for j in G.nodes:\n",
    "        \n",
    "        loc_i = (G.nodes[i]['C_Y'], G.nodes[i]['C_X'])\n",
    "        loc_j = (G.nodes[j]['C_Y'], G.nodes[j]['C_X'])  \n",
    "        \n",
    "        \n",
    "        dist[i, j] = geodesic(loc_i, loc_j).miles  \n",
    "\n",
    "\n",
    "print(f\"Distance between node 0 and node 1: {dist[0, 1]} miles\")\n"
   ]
  },
  {
   "cell_type": "code",
   "execution_count": 81,
   "id": "db0f306b",
   "metadata": {},
   "outputs": [
    {
     "name": "stdout",
     "output_type": "stream",
     "text": [
      "Using L = 914956 and U = 924150 and k = 2\n"
     ]
    }
   ],
   "source": [
    "import math\n",
    "\n",
    "\n",
    "deviation = 0.01\n",
    "\n",
    "\n",
    "k = 2\n",
    "\n",
    "\n",
    "total_population = sum(G.nodes[node]['TOTPOP'] for node in G.nodes)\n",
    "\n",
    "\n",
    "L = math.ceil((1 - deviation / 2) * total_population / k)\n",
    "U = math.floor((1 + deviation / 2) * total_population / k)\n",
    "\n",
    "\n",
    "print(\"Using L =\", L, \"and U =\", U, \"and k =\", k)\n"
   ]
  },
  {
   "cell_type": "code",
   "execution_count": 82,
   "id": "c546c202",
   "metadata": {},
   "outputs": [],
   "source": [
    "import gurobipy as gp\n",
    "from gurobipy import GRB\n",
    "\n",
    " \n",
    "m = gp.Model()\n",
    "\n",
    "\n",
    "x = m.addVars( G.nodes, G.nodes, vtype=GRB.BINARY )"
   ]
  },
  {
   "cell_type": "code",
   "execution_count": 83,
   "id": "deccafd3",
   "metadata": {},
   "outputs": [],
   "source": [
    "\n",
    "m.setObjective( gp.quicksum( dist[i,j] * dist[i,j] * G.nodes[i]['TOTPOP'] * x[i,j] for i in G.nodes for j in G.nodes ), GRB.MINIMIZE )"
   ]
  },
  {
   "cell_type": "code",
   "execution_count": 84,
   "id": "c0528009",
   "metadata": {},
   "outputs": [],
   "source": [
    "\n",
    "m.addConstrs( gp.quicksum( x[i,j] for j in G.nodes ) == 1 for i in G.nodes )\n",
    "\n",
    "\n",
    "m.addConstr( gp.quicksum( x[j,j] for j in G.nodes ) == k )\n",
    "\n",
    "\n",
    "m.addConstrs( gp.quicksum( G.nodes[i]['TOTPOP'] * x[i,j] for i in G.nodes ) >= L * x[j,j] for j in G.nodes )\n",
    "m.addConstrs( gp.quicksum( G.nodes[i]['TOTPOP'] * x[i,j] for i in G.nodes ) <= U * x[j,j] for j in G.nodes )\n",
    "\n",
    "\n",
    "m.addConstrs( x[i,j] <= x[j,j] for i in G.nodes for j in G.nodes )\n",
    "\n",
    "m.update()"
   ]
  },
  {
   "cell_type": "code",
   "execution_count": 85,
   "id": "4152f14f",
   "metadata": {},
   "outputs": [],
   "source": [
    "\n",
    "import networkx as nx\n",
    "DG = nx.DiGraph(G)\n",
    "\n",
    "\n",
    "f = m.addVars( DG.edges, G.nodes ) \n",
    "\n",
    "\n",
    "m.addConstrs( gp.quicksum( f[u,i,j] - f[i,u,j] for u in G.neighbors(i) ) == x[i,j] for i in G.nodes for j in G.nodes if i != j )\n",
    "\n",
    "\n",
    "M = G.number_of_nodes() - 1\n",
    "m.addConstrs( gp.quicksum( f[u,i,j] for u in G.neighbors(i) ) <= M * x[i,j] for i in G.nodes for j in G.nodes if i != j )\n",
    "\n",
    "\n",
    "m.addConstrs( gp.quicksum( f[u,j,j] for u in G.neighbors(j) ) == 0 for j in G.nodes )\n",
    "\n",
    "m.update()"
   ]
  },
  {
   "cell_type": "code",
   "execution_count": 86,
   "id": "c200b669",
   "metadata": {},
   "outputs": [
    {
     "name": "stdout",
     "output_type": "stream",
     "text": [
      "Set parameter MIPGap to value 0\n",
      "Gurobi Optimizer version 12.0.1 build v12.0.1rc0 (win64 - Windows 11.0 (26100.2))\n",
      "\n",
      "CPU model: Intel(R) Core(TM) i5-8250U CPU @ 1.60GHz, instruction set [SSE2|AVX|AVX2]\n",
      "Thread count: 4 physical cores, 8 logical processors, using up to 8 threads\n",
      "\n",
      "Non-default parameters:\n",
      "MIPGap  0\n",
      "\n",
      "Optimize a model with 5897 rows, 10912 columns and 39940 nonzeros\n",
      "Model fingerprint: 0xf08c3649\n",
      "Variable types: 8976 continuous, 1936 integer (1936 binary)\n",
      "Coefficient statistics:\n",
      "  Matrix range     [1e+00, 9e+05]\n",
      "  Objective range  [9e+05, 7e+10]\n",
      "  Bounds range     [1e+00, 1e+00]\n",
      "  RHS range        [1e+00, 2e+00]\n",
      "Warning: Model contains large objective coefficients\n",
      "         Consider reformulating model or setting NumericFocus parameter\n",
      "         to avoid numerical issues.\n",
      "Presolve removed 174 rows and 291 columns\n",
      "Presolve time: 0.13s\n",
      "Presolved: 5723 rows, 10621 columns, 39230 nonzeros\n",
      "Variable types: 8685 continuous, 1936 integer (1936 binary)\n",
      "\n",
      "Root relaxation: objective 2.606803e+10, 1062 iterations, 0.09 seconds (0.07 work units)\n",
      "\n",
      "    Nodes    |    Current Node    |     Objective Bounds      |     Work\n",
      " Expl Unexpl |  Obj  Depth IntInf | Incumbent    BestBd   Gap | It/Node Time\n",
      "\n",
      "     0     0 2.6068e+10    0    2          - 2.6068e+10      -     -    0s\n",
      "H    0     0                    3.672946e+10 2.6068e+10  29.0%     -    0s\n",
      "H    0     0                    3.663419e+10 2.6068e+10  28.8%     -    0s\n",
      "H    0     0                    2.999526e+10 2.6068e+10  13.1%     -    0s\n",
      "H    0     0                    2.999052e+10 2.6068e+10  13.1%     -    0s\n",
      "     0     0 2.7998e+10    0    2 2.9991e+10 2.7998e+10  6.64%     -    0s\n",
      "     0     0 2.7998e+10    0    4 2.9991e+10 2.7998e+10  6.64%     -    1s\n",
      "     0     0 2.7998e+10    0    4 2.9991e+10 2.7998e+10  6.64%     -    1s\n",
      "H    0     0                    2.815442e+10 2.7998e+10  0.55%     -    1s\n",
      "     0     0     cutoff    0      2.8154e+10 2.8154e+10  0.00%     -    1s\n",
      "\n",
      "Cutting planes:\n",
      "  Cover: 2\n",
      "  Flow cover: 2\n",
      "  GUB cover: 1\n",
      "  RLT: 1\n",
      "\n",
      "Explored 1 nodes (1658 simplex iterations) in 1.17 seconds (0.47 work units)\n",
      "Thread count was 8 (of 8 available processors)\n",
      "\n",
      "Solution count 5: 2.81544e+10 2.99905e+10 2.99953e+10 ... 3.67295e+10\n",
      "\n",
      "Optimal solution found (tolerance 0.00e+00)\n",
      "Best objective 2.815441927327e+10, best bound 2.815441927327e+10, gap 0.0000%\n"
     ]
    }
   ],
   "source": [
    "\n",
    "m.Params.MIPGap = 0.0\n",
    "\n",
    "m.optimize()"
   ]
  },
  {
   "cell_type": "code",
   "execution_count": 87,
   "id": "dff0c8c0",
   "metadata": {},
   "outputs": [
    {
     "name": "stdout",
     "output_type": "stream",
     "text": [
      "28154419273.267452\n",
      "District 0 has population 921109 and contains counties ['Lemhi', 'Cassia', 'Oneida', 'Boise', 'Fremont', 'Bannock', 'Twin Falls', 'Owyhee', 'Gooding', 'Caribou', 'Bear Lake', 'Lincoln', 'Camas', 'Canyon', 'Jefferson', 'Franklin', 'Madison', 'Clark', 'Jerome', 'Custer', 'Bonneville', 'Teton', 'Power', 'Blaine', 'Elmore', 'Butte', 'Valley', 'Minidoka', 'Bingham']\n",
      "\n",
      "District 1 has population 917997 and contains counties ['Ada', 'Clearwater', 'Payette', 'Shoshone', 'Lewis', 'Washington', 'Latah', 'Boundary', 'Kootenai', 'Gem', 'Idaho', 'Benewah', 'Nez Perce', 'Adams', 'Bonner']\n",
      "\n"
     ]
    }
   ],
   "source": [
    "\n",
    "print(m.objVal)\n",
    "\n",
    "\n",
    "\n",
    "centers = [ j for j in G.nodes if x[j,j].x > 0.5 ]\n",
    "\n",
    "districts = [ [ i for i in G.nodes if x[i,j].x > 0.5 ] for j in centers ]\n",
    "district_counties = [ [ G.nodes[i][\"NAME20\"] for i in districts[j] ] for j in range(k)]\n",
    "district_populations = [ sum(G.nodes[i][\"TOTPOP\"] for i in districts[j]) for j in range(k) ]\n",
    "\n",
    "\n",
    "for j in range(k):\n",
    "    print(\"District\",j,\"has population\",district_populations[j],\"and contains counties\",district_counties[j])\n",
    "    print(\"\")"
   ]
  },
  {
   "cell_type": "code",
   "execution_count": 88,
   "id": "47cae812",
   "metadata": {},
   "outputs": [
    {
     "name": "stdout",
     "output_type": "stream",
     "text": [
      "  STATEFP20 COUNTYFP20 COUNTYNS20 GEOID20      NAME20         NAMELSAD20  \\\n",
      "0        16        059   00399754   16059       Lemhi       Lemhi County   \n",
      "1        16        001   00395066   16001         Ada         Ada County   \n",
      "2        16        031   00395698   16031      Cassia      Cassia County   \n",
      "3        16        071   00399759   16071      Oneida      Oneida County   \n",
      "4        16        035   00395697   16035  Clearwater  Clearwater County   \n",
      "\n",
      "  LSAD20 CLASSFP20 MTFCC20 CSAFP20 CBSAFP20 METDIVFP20 FUNCSTAT20  \\\n",
      "0     06        H1   G4020    None     None       None          A   \n",
      "1     06        H1   G4020     147    14260       None          A   \n",
      "2     06        H1   G4020    None    15420       None          A   \n",
      "3     06        H1   G4020    None     None       None          A   \n",
      "4     06        H1   G4020    None     None       None          A   \n",
      "\n",
      "       ALAND20  AWATER20   INTPTLAT20    INTPTLON20  \\\n",
      "0  11819914566  14105634  +44.9285059  -113.8870422   \n",
      "1   2724704673  22159753  +43.4514767  -116.2443760   \n",
      "2   6644897877  39158534  +42.2823130  -113.6263276   \n",
      "3   3105269247   3995240  +42.1838954  -112.5204486   \n",
      "4   6364412864  79592497  +46.6725700  -115.6535003   \n",
      "\n",
      "                                            geometry  \n",
      "0  POLYGON ((-114.22122 44.87897, -114.22129 44.8...  \n",
      "1  POLYGON ((-116.51274 43.68168, -116.51274 43.6...  \n",
      "2  POLYGON ((-113.90052 42.54542, -113.89763 42.5...  \n",
      "3  POLYGON ((-112.36481 42.00105, -112.3849 42.00...  \n",
      "4  POLYGON ((-115.90565 46.29072, -115.90617 46.2...  \n"
     ]
    }
   ],
   "source": [
    "import geopandas as gpd\n",
    "\n",
    "\n",
    "filepath = r'C:\\Users\\mohal\\Downloads\\districting_data_extracted\\districting-data-2020-county\\\\'  \n",
    "filename = 'ID_county.shp'  \n",
    "\n",
    "\n",
    "df = gpd.read_file(filepath + filename)\n",
    "\n",
    "\n",
    "print(df.head())"
   ]
  },
  {
   "cell_type": "code",
   "execution_count": 74,
   "id": "e02c0ccd",
   "metadata": {},
   "outputs": [
    {
     "data": {
      "image/png": "[encoded data removed]",
      "text/plain": [
       "<Figure size 640x480 with 1 Axes>"
      ]
     },
     "metadata": {},
     "output_type": "display_data"
    }
   ],
   "source": [
    "\n",
    "assignment = [ -1 for i in G.nodes ]\n",
    "\n",
    "labeling = { i : -1 for i in G.nodes }\n",
    "for j in range(k):\n",
    "    district = districts[j]\n",
    "    for i in district:\n",
    "        labeling[i] = j\n",
    "\n",
    "\n",
    "node_with_this_geoid = { G.nodes[i]['GEOID20'] : i for i in G.nodes }\n",
    "\n",
    "\n",
    "for u in range(G.number_of_nodes()):\n",
    "    \n",
    "    geoid = df['GEOID20'][u]\n",
    "    \n",
    "    \n",
    "    i = node_with_this_geoid[geoid]\n",
    "    \n",
    "    \n",
    "    \n",
    "    assignment[u] = labeling[i]\n",
    "    \n",
    "\n",
    "df['assignment'] = assignment\n",
    "\n",
    "my_fig = df.plot(column='assignment').get_figure()"
   ]
  },
  {
   "cell_type": "code",
   "execution_count": null,
   "id": "4e4ef0b4",
   "metadata": {},
   "outputs": [],
   "source": []
  }
 ],
 "metadata": {
  "kernelspec": {
   "display_name": "Python 3 (ipykernel)",
   "language": "python",
   "name": "python3"
  },
  "language_info": {
   "codemirror_mode": {
    "name": "ipython",
    "version": 3
   },
   "file_extension": ".py",
   "mimetype": "text/x-python",
   "name": "python",
   "nbconvert_exporter": "python",
   "pygments_lexer": "ipython3",
   "version": "3.11.5"
  }
 },
 "nbformat": 4,
 "nbformat_minor": 5
}
