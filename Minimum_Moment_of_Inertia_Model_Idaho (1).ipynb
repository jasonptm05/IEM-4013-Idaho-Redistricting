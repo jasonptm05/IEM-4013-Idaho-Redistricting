{
 "cells": [
  {
   "cell_type": "code",
   "execution_count": 36,
   "id": "c7e2e1d1",
   "metadata": {},
   "outputs": [
    {
     "name": "stdout",
     "output_type": "stream",
     "text": [
      "[0, 1, 2, 3, 4, 5, 6, 7, 8, 9, 10, 11, 12, 13, 14, 15, 16, 17, 18, 19, 20, 21, 22, 23, 24, 25, 26, 27, 28, 29, 30, 31, 32, 33, 34, 35, 36, 37, 38, 39, 40, 41, 42, 43]\n"
     ]
    }
   ],
   "source": [
    "import json\n",
    "from networkx.readwrite import json_graph\n",
    "\n",
    "def read_graph_from_json(json_file):\n",
    "    with open(json_file) as f:\n",
    "        data = json.load(f)\n",
    "    return json_graph.adjacency_graph(data)\n",
    "\n",
    "\n",
    "json_file_path = r'C:\\Users\\mohal\\Downloads\\districting_data_extracted\\districting-data-2020-county\\ID_county.json'\n",
    "graph = read_graph_from_json(json_file_path)\n",
    "\n",
    "\n",
    "print(graph.nodes)  "
   ]
  },
  {
   "cell_type": "code",
   "execution_count": 35,
   "id": "255799ef",
   "metadata": {},
   "outputs": [
    {
     "name": "stdout",
     "output_type": "stream",
     "text": [
      "{'boundary_node': True, 'boundary_perim': 3.677925403240904, 'area': 1.349254668082501, 'STATEFP20': '16', 'COUNTYFP20': '059', 'COUNTYNS20': '00399754', 'GEOID20': '16059', 'NAME20': 'Lemhi', 'NAMELSAD20': 'Lemhi County', 'LSAD20': '06', 'CLASSFP20': 'H1', 'MTFCC20': 'G4020', 'CSAFP20': None, 'CBSAFP20': None, 'FUNCSTAT20': 'A', 'ALAND20': 11819914566, 'AWATER20': 14105634, 'INTPTLAT20': '+44.9285059', 'INTPTLON20': '-113.8870422', 'FILEID': 'PLST', 'STUSAB': 'ID', 'SUMLEV': '050', 'GEOVAR': '00', 'GEOCOMP': '00', 'CHARITER': '000', 'LOGRECNO': '0000031', 'GEOID': '0500000US16059', 'GEOCODE': '16059', 'REGION': '4', 'DIVISION': '8', 'STATE': '16', 'STATENS': '01779783', 'COUNTY': '059', 'COUNTYCC': 'H1', 'COUNTYNS': '00399754', 'CBSA': '99999', 'MEMI': '9', 'CSA': '999', 'METDIV': '99999', 'AREALAND': 11819914566, 'AREAWATR': 14105634, 'BASENAME': 'Lemhi', 'NAME': 'Lemhi County', 'FUNCSTAT': 'A', 'POP100': 7974, 'HU100': 4568, 'INTPTLAT': '+44.9285059', 'INTPTLON': '-113.8870422', 'LSADC': '06', 'P0010001': 7974, 'P0010002': 7598, 'P0010003': 7386, 'P0010004': 19, 'P0010005': 56, 'P0010006': 37, 'P0010007': 6, 'P0010008': 94, 'P0010009': 376, 'P0010010': 365, 'P0010011': 11, 'P0010012': 170, 'P0010013': 12, 'P0010014': 2, 'P0010015': 154, 'P0010016': 4, 'P0010017': 0, 'P0010018': 1, 'P0010019': 2, 'P0010020': 3, 'P0010021': 5, 'P0010022': 1, 'P0010023': 0, 'P0010024': 0, 'P0010025': 0, 'P0010026': 5, 'P0010027': 4, 'P0010028': 0, 'P0010029': 0, 'P0010030': 0, 'P0010031': 0, 'P0010032': 0, 'P0010033': 1, 'P0010034': 0, 'P0010035': 0, 'P0010036': 0, 'P0010037': 0, 'P0010038': 0, 'P0010039': 0, 'P0010040': 0, 'P0010041': 0, 'P0010042': 0, 'P0010043': 0, 'P0010044': 0, 'P0010045': 0, 'P0010046': 0, 'P0010047': 6, 'P0010048': 1, 'P0010049': 0, 'P0010050': 4, 'P0010051': 0, 'P0010052': 0, 'P0010053': 1, 'P0010054': 0, 'P0010055': 0, 'P0010056': 0, 'P0010057': 0, 'P0010058': 0, 'P0010059': 0, 'P0010060': 0, 'P0010061': 0, 'P0010062': 0, 'P0010063': 0, 'P0010064': 0, 'P0010065': 0, 'P0010066': 0, 'P0010067': 0, 'P0010068': 0, 'P0010069': 0, 'P0010070': 0, 'P0010071': 0, 'P0020001': 7974, 'P0020002': 295, 'P0020003': 7679, 'P0020004': 7415, 'P0020005': 7280, 'P0020006': 17, 'P0020007': 46, 'P0020008': 28, 'P0020009': 6, 'P0020010': 38, 'P0020011': 264, 'P0020012': 263, 'P0020013': 11, 'P0020014': 158, 'P0020015': 12, 'P0020016': 2, 'P0020017': 72, 'P0020018': 0, 'P0020019': 0, 'P0020020': 1, 'P0020021': 2, 'P0020022': 0, 'P0020023': 4, 'P0020024': 1, 'P0020025': 0, 'P0020026': 0, 'P0020027': 0, 'P0020028': 0, 'P0020029': 0, 'P0020030': 0, 'P0020031': 0, 'P0020032': 0, 'P0020033': 0, 'P0020034': 0, 'P0020035': 0, 'P0020036': 0, 'P0020037': 0, 'P0020038': 0, 'P0020039': 0, 'P0020040': 0, 'P0020041': 0, 'P0020042': 0, 'P0020043': 0, 'P0020044': 0, 'P0020045': 0, 'P0020046': 0, 'P0020047': 0, 'P0020048': 0, 'P0020049': 1, 'P0020050': 1, 'P0020051': 0, 'P0020052': 0, 'P0020053': 0, 'P0020054': 0, 'P0020055': 0, 'P0020056': 0, 'P0020057': 0, 'P0020058': 0, 'P0020059': 0, 'P0020060': 0, 'P0020061': 0, 'P0020062': 0, 'P0020063': 0, 'P0020064': 0, 'P0020065': 0, 'P0020066': 0, 'P0020067': 0, 'P0020068': 0, 'P0020069': 0, 'P0020070': 0, 'P0020071': 0, 'P0020072': 0, 'P0020073': 0, 'P0030001': 6470, 'P0030002': 6205, 'P0030003': 6022, 'P0030004': 13, 'P0030005': 52, 'P0030006': 34, 'P0030007': 6, 'P0030008': 78, 'P0030009': 265, 'P0030010': 261, 'P0030011': 1, 'P0030012': 129, 'P0030013': 7, 'P0030014': 2, 'P0030015': 107, 'P0030016': 4, 'P0030017': 0, 'P0030018': 1, 'P0030019': 2, 'P0030020': 3, 'P0030021': 4, 'P0030022': 1, 'P0030023': 0, 'P0030024': 0, 'P0030025': 0, 'P0030026': 0, 'P0030027': 0, 'P0030028': 0, 'P0030029': 0, 'P0030030': 0, 'P0030031': 0, 'P0030032': 0, 'P0030033': 0, 'P0030034': 0, 'P0030035': 0, 'P0030036': 0, 'P0030037': 0, 'P0030038': 0, 'P0030039': 0, 'P0030040': 0, 'P0030041': 0, 'P0030042': 0, 'P0030043': 0, 'P0030044': 0, 'P0030045': 0, 'P0030046': 0, 'P0030047': 4, 'P0030048': 0, 'P0030049': 0, 'P0030050': 4, 'P0030051': 0, 'P0030052': 0, 'P0030053': 0, 'P0030054': 0, 'P0030055': 0, 'P0030056': 0, 'P0030057': 0, 'P0030058': 0, 'P0030059': 0, 'P0030060': 0, 'P0030061': 0, 'P0030062': 0, 'P0030063': 0, 'P0030064': 0, 'P0030065': 0, 'P0030066': 0, 'P0030067': 0, 'P0030068': 0, 'P0030069': 0, 'P0030070': 0, 'P0030071': 0, 'P0040001': 6470, 'P0040002': 198, 'P0040003': 6272, 'P0040004': 6081, 'P0040005': 5962, 'P0040006': 11, 'P0040007': 44, 'P0040008': 28, 'P0040009': 6, 'P0040010': 30, 'P0040011': 191, 'P0040012': 191, 'P0040013': 1, 'P0040014': 117, 'P0040015': 7, 'P0040016': 2, 'P0040017': 56, 'P0040018': 0, 'P0040019': 0, 'P0040020': 1, 'P0040021': 2, 'P0040022': 0, 'P0040023': 4, 'P0040024': 1, 'P0040025': 0, 'P0040026': 0, 'P0040027': 0, 'P0040028': 0, 'P0040029': 0, 'P0040030': 0, 'P0040031': 0, 'P0040032': 0, 'P0040033': 0, 'P0040034': 0, 'P0040035': 0, 'P0040036': 0, 'P0040037': 0, 'P0040038': 0, 'P0040039': 0, 'P0040040': 0, 'P0040041': 0, 'P0040042': 0, 'P0040043': 0, 'P0040044': 0, 'P0040045': 0, 'P0040046': 0, 'P0040047': 0, 'P0040048': 0, 'P0040049': 0, 'P0040050': 0, 'P0040051': 0, 'P0040052': 0, 'P0040053': 0, 'P0040054': 0, 'P0040055': 0, 'P0040056': 0, 'P0040057': 0, 'P0040058': 0, 'P0040059': 0, 'P0040060': 0, 'P0040061': 0, 'P0040062': 0, 'P0040063': 0, 'P0040064': 0, 'P0040065': 0, 'P0040066': 0, 'P0040067': 0, 'P0040068': 0, 'P0040069': 0, 'P0040070': 0, 'P0040071': 0, 'P0040072': 0, 'P0040073': 0, 'H0010001': 4568, 'H0010002': 3651, 'H0010003': 917, 'P0050001': 76, 'P0050002': 30, 'P0050003': 2, 'P0050004': 0, 'P0050005': 28, 'P0050006': 0, 'P0050007': 46, 'P0050008': 12, 'P0050009': 0, 'P0050010': 34, 'TOTPOP': 7974, 'C_X': '-113.8870422', 'C_Y': '+44.9285059'}\n"
     ]
    }
   ],
   "source": [
    "import json\n",
    "from networkx.readwrite import json_graph\n",
    "\n",
    "def read_graph_from_json(json_file):\n",
    "    with open(json_file) as f:\n",
    "        data = json.load(f)\n",
    "    return json_graph.adjacency_graph(data)\n",
    "\n",
    "\n",
    "filepath = r'C:\\Users\\mohal\\Downloads\\districting_data_extracted\\districting-data-2020-county\\\\'  \n",
    "filename = 'ID_county.json'\n",
    "\n",
    "\n",
    "G = read_graph_from_json(filepath + filename)\n",
    "\n",
    "\n",
    "for node in G.nodes:\n",
    "    G.nodes[node]['TOTPOP'] = G.nodes[node]['P0010001']  \n",
    "    G.nodes[node]['C_X'] = G.nodes[node]['INTPTLON20']  \n",
    "    G.nodes[node]['C_Y'] = G.nodes[node]['INTPTLAT20']  \n",
    "\n",
    "\n",
    "print(G.nodes[0]) \n"
   ]
  },
  {
   "cell_type": "code",
   "execution_count": 38,
   "id": "910a73a4",
   "metadata": {},
   "outputs": [
    {
     "name": "stdout",
     "output_type": "stream",
     "text": [
      "Distance between node 0 and node 1: 155.2759354316712 miles\n"
     ]
    }
   ],
   "source": [
    "from geopy.distance import geodesic\n",
    "\n",
    "\n",
    "dist = { (i, j): 0 for i in G.nodes for j in G.nodes }\n",
    "\n",
    "\n",
    "for i in G.nodes:\n",
    "    for j in G.nodes:\n",
    "        \n",
    "        loc_i = (G.nodes[i]['C_Y'], G.nodes[i]['C_X'])\n",
    "        loc_j = (G.nodes[j]['C_Y'], G.nodes[j]['C_X'])  \n",
    "        \n",
    "        \n",
    "        dist[i, j] = geodesic(loc_i, loc_j).miles  \n",
    "\n",
    "\n",
    "print(f\"Distance between node 0 and node 1: {dist[0, 1]} miles\")\n"
   ]
  },
  {
   "cell_type": "code",
   "execution_count": 40,
   "id": "fc9ba0e5",
   "metadata": {},
   "outputs": [
    {
     "name": "stdout",
     "output_type": "stream",
     "text": [
      "Using L = 914956 and U = 924150 and k = 2\n"
     ]
    }
   ],
   "source": [
    "import math\n",
    "\n",
    "\n",
    "deviation = 0.01\n",
    "\n",
    "\n",
    "k = 2\n",
    "\n",
    "\n",
    "total_population = sum(G.nodes[node]['TOTPOP'] for node in G.nodes)\n",
    "\n",
    "\n",
    "L = math.ceil((1 - deviation / 2) * total_population / k)\n",
    "U = math.floor((1 + deviation / 2) * total_population / k)\n",
    "\n",
    "\n",
    "print(\"Using L =\", L, \"and U =\", U, \"and k =\", k)\n"
   ]
  },
  {
   "cell_type": "code",
   "execution_count": 44,
   "id": "08342efe",
   "metadata": {},
   "outputs": [],
   "source": [
    "import gurobipy as gp\n",
    "from gurobipy import GRB\n",
    "\n",
    " \n",
    "m = gp.Model()\n",
    "\n",
    "\n",
    "x = m.addVars( G.nodes, G.nodes, vtype=GRB.BINARY )"
   ]
  },
  {
   "cell_type": "code",
   "execution_count": 45,
   "id": "c4e68c24",
   "metadata": {},
   "outputs": [],
   "source": [
    "\n",
    "m.setObjective( gp.quicksum( dist[i,j] * dist[i,j] * G.nodes[i]['TOTPOP'] * x[i,j] for i in G.nodes for j in G.nodes ), GRB.MINIMIZE )"
   ]
  },
  {
   "cell_type": "code",
   "execution_count": 51,
   "id": "a519c126",
   "metadata": {},
   "outputs": [],
   "source": [
    "\n",
    "m.addConstrs( gp.quicksum( x[i,j] for j in G.nodes ) == 1 for i in G.nodes )\n",
    "\n",
    "\n",
    "m.addConstr( gp.quicksum( x[j,j] for j in G.nodes ) == k )\n",
    "\n",
    "\n",
    "m.addConstrs( gp.quicksum( G.nodes[i]['TOTPOP'] * x[i,j] for i in G.nodes ) >= L * x[j,j] for j in G.nodes )\n",
    "m.addConstrs( gp.quicksum( G.nodes[i]['TOTPOP'] * x[i,j] for i in G.nodes ) <= U * x[j,j] for j in G.nodes )\n",
    "\n",
    "\n",
    "m.addConstrs( x[i,j] <= x[j,j] for i in G.nodes for j in G.nodes )\n",
    "\n",
    "m.update()"
   ]
  },
  {
   "cell_type": "code",
   "execution_count": 56,
   "id": "3a26a893",
   "metadata": {},
   "outputs": [],
   "source": [
    "\n",
    "import networkx as nx\n",
    "DG = nx.DiGraph(G)\n",
    "\n",
    "\n",
    "f = m.addVars( DG.edges, G.nodes ) \n",
    "\n",
    "\n",
    "m.addConstrs( gp.quicksum( f[u,i,j] - f[i,u,j] for u in G.neighbors(i) ) == x[i,j] for i in G.nodes for j in G.nodes if i != j )\n",
    "\n",
    "\n",
    "M = G.number_of_nodes() - 1\n",
    "m.addConstrs( gp.quicksum( f[u,i,j] for u in G.neighbors(i) ) <= M * x[i,j] for i in G.nodes for j in G.nodes if i != j )\n",
    "\n",
    "\n",
    "m.addConstrs( gp.quicksum( f[u,j,j] for u in G.neighbors(j) ) == 0 for j in G.nodes )\n",
    "\n",
    "m.update()"
   ]
  },
  {
   "cell_type": "code",
   "execution_count": 57,
   "id": "8682e2e2",
   "metadata": {},
   "outputs": [
    {
     "name": "stdout",
     "output_type": "stream",
     "text": [
      "Set parameter MIPGap to value 0\n",
      "Gurobi Optimizer version 12.0.1 build v12.0.1rc0 (win64 - Windows 11.0 (26100.2))\n",
      "\n",
      "CPU model: Intel(R) Core(TM) i5-8250U CPU @ 1.60GHz, instruction set [SSE2|AVX|AVX2]\n",
      "Thread count: 4 physical cores, 8 logical processors, using up to 8 threads\n",
      "\n",
      "Non-default parameters:\n",
      "MIPGap  0\n",
      "\n",
      "Optimize a model with 19450 rows, 37840 columns and 140488 nonzeros\n",
      "Model fingerprint: 0x993522f3\n",
      "Variable types: 35904 continuous, 1936 integer (1936 binary)\n",
      "Coefficient statistics:\n",
      "  Matrix range     [1e+00, 9e+05]\n",
      "  Objective range  [9e+05, 7e+10]\n",
      "  Bounds range     [1e+00, 1e+00]\n",
      "  RHS range        [1e+00, 2e+00]\n",
      "Warning: Model contains large objective coefficients\n",
      "         Consider reformulating model or setting NumericFocus parameter\n",
      "         to avoid numerical issues.\n",
      "\n",
      "MIP start from previous solve produced solution with objective 2.81544e+10 (0.07s)\n",
      "Loaded MIP start from previous solve with objective 2.81544e+10\n",
      "\n",
      "Presolve removed 13780 rows and 27381 columns\n",
      "Presolve time: 0.51s\n",
      "Presolved: 5670 rows, 10459 columns, 38685 nonzeros\n",
      "Variable types: 8539 continuous, 1920 integer (1920 binary)\n",
      "\n",
      "Root relaxation: objective 2.606803e+10, 1236 iterations, 0.09 seconds (0.08 work units)\n",
      "\n",
      "    Nodes    |    Current Node    |     Objective Bounds      |     Work\n",
      " Expl Unexpl |  Obj  Depth IntInf | Incumbent    BestBd   Gap | It/Node Time\n",
      "\n",
      "     0     0 2.6068e+10    0    2 2.8154e+10 2.6068e+10  7.41%     -    0s\n",
      "     0     0 2.8052e+10    0    2 2.8154e+10 2.8052e+10  0.36%     -    0s\n",
      "\n",
      "Explored 1 nodes (1370 simplex iterations) in 0.95 seconds (0.54 work units)\n",
      "Thread count was 8 (of 8 available processors)\n",
      "\n",
      "Solution count 1: 2.81544e+10 \n",
      "\n",
      "Optimal solution found (tolerance 0.00e+00)\n",
      "Best objective 2.815441927327e+10, best bound 2.815441927327e+10, gap 0.0000%\n"
     ]
    }
   ],
   "source": [
    "\n",
    "m.Params.MIPGap = 0.0\n",
    "\n",
    "m.optimize()"
   ]
  },
  {
   "cell_type": "code",
   "execution_count": 59,
   "id": "37dbb6ed",
   "metadata": {},
   "outputs": [
    {
     "name": "stdout",
     "output_type": "stream",
     "text": [
      "28154419273.267452\n",
      "District 0 has population 921109 and contains counties ['Lemhi', 'Cassia', 'Oneida', 'Boise', 'Fremont', 'Bannock', 'Twin Falls', 'Owyhee', 'Gooding', 'Caribou', 'Bear Lake', 'Lincoln', 'Camas', 'Canyon', 'Jefferson', 'Franklin', 'Madison', 'Clark', 'Jerome', 'Custer', 'Bonneville', 'Teton', 'Power', 'Blaine', 'Elmore', 'Butte', 'Valley', 'Minidoka', 'Bingham']\n",
      "\n",
      "District 1 has population 917997 and contains counties ['Ada', 'Clearwater', 'Payette', 'Shoshone', 'Lewis', 'Washington', 'Latah', 'Boundary', 'Kootenai', 'Gem', 'Idaho', 'Benewah', 'Nez Perce', 'Adams', 'Bonner']\n",
      "\n"
     ]
    }
   ],
   "source": [
    "\n",
    "print(m.objVal)\n",
    "\n",
    "\n",
    "\n",
    "centers = [ j for j in G.nodes if x[j,j].x > 0.5 ]\n",
    "\n",
    "districts = [ [ i for i in G.nodes if x[i,j].x > 0.5 ] for j in centers ]\n",
    "district_counties = [ [ G.nodes[i][\"NAME20\"] for i in districts[j] ] for j in range(k)]\n",
    "district_populations = [ sum(G.nodes[i][\"TOTPOP\"] for i in districts[j]) for j in range(k) ]\n",
    "\n",
    "\n",
    "for j in range(k):\n",
    "    print(\"District\",j,\"has population\",district_populations[j],\"and contains counties\",district_counties[j])\n",
    "    print(\"\")"
   ]
  },
  {
   "cell_type": "code",
   "execution_count": 60,
   "id": "c4b6340f",
   "metadata": {},
   "outputs": [
    {
     "name": "stdout",
     "output_type": "stream",
     "text": [
      "  STATEFP20 COUNTYFP20 COUNTYNS20 GEOID20      NAME20         NAMELSAD20  \\\n",
      "0        16        059   00399754   16059       Lemhi       Lemhi County   \n",
      "1        16        001   00395066   16001         Ada         Ada County   \n",
      "2        16        031   00395698   16031      Cassia      Cassia County   \n",
      "3        16        071   00399759   16071      Oneida      Oneida County   \n",
      "4        16        035   00395697   16035  Clearwater  Clearwater County   \n",
      "\n",
      "  LSAD20 CLASSFP20 MTFCC20 CSAFP20 CBSAFP20 METDIVFP20 FUNCSTAT20  \\\n",
      "0     06        H1   G4020    None     None       None          A   \n",
      "1     06        H1   G4020     147    14260       None          A   \n",
      "2     06        H1   G4020    None    15420       None          A   \n",
      "3     06        H1   G4020    None     None       None          A   \n",
      "4     06        H1   G4020    None     None       None          A   \n",
      "\n",
      "       ALAND20  AWATER20   INTPTLAT20    INTPTLON20  \\\n",
      "0  11819914566  14105634  +44.9285059  -113.8870422   \n",
      "1   2724704673  22159753  +43.4514767  -116.2443760   \n",
      "2   6644897877  39158534  +42.2823130  -113.6263276   \n",
      "3   3105269247   3995240  +42.1838954  -112.5204486   \n",
      "4   6364412864  79592497  +46.6725700  -115.6535003   \n",
      "\n",
      "                                            geometry  \n",
      "0  POLYGON ((-114.22122 44.87897, -114.22129 44.8...  \n",
      "1  POLYGON ((-116.51274 43.68168, -116.51274 43.6...  \n",
      "2  POLYGON ((-113.90052 42.54542, -113.89763 42.5...  \n",
      "3  POLYGON ((-112.36481 42.00105, -112.3849 42.00...  \n",
      "4  POLYGON ((-115.90565 46.29072, -115.90617 46.2...  \n"
     ]
    }
   ],
   "source": [
    "import geopandas as gpd\n",
    "\n",
    "\n",
    "filepath = r'C:\\Users\\mohal\\Downloads\\districting_data_extracted\\districting-data-2020-county\\\\'  \n",
    "filename = 'ID_county.shp'  \n",
    "\n",
    "\n",
    "df = gpd.read_file(filepath + filename)\n",
    "\n",
    "\n",
    "print(df.head())"
   ]
  },
  {
   "cell_type": "code",
   "execution_count": 62,
   "id": "5d007962",
   "metadata": {},
   "outputs": [
    {
     "data": {
      "image/png": "[encoded data removed]",
      "text/plain": [
       "<Figure size 640x480 with 1 Axes>"
      ]
     },
     "metadata": {},
     "output_type": "display_data"
    }
   ],
   "source": [
    "\n",
    "assignment = [ -1 for i in G.nodes ]\n",
    "\n",
    "labeling = { i : -1 for i in G.nodes }\n",
    "for j in range(k):\n",
    "    district = districts[j]\n",
    "    for i in district:\n",
    "        labeling[i] = j\n",
    "\n",
    "\n",
    "node_with_this_geoid = { G.nodes[i]['GEOID20'] : i for i in G.nodes }\n",
    "\n",
    "\n",
    "for u in range(G.number_of_nodes()):\n",
    "    \n",
    "    geoid = df['GEOID20'][u]\n",
    "    \n",
    "    \n",
    "    i = node_with_this_geoid[geoid]\n",
    "    \n",
    "    \n",
    "    \n",
    "    assignment[u] = labeling[i]\n",
    "    \n",
    "\n",
    "df['assignment'] = assignment\n",
    "\n",
    "my_fig = df.plot(column='assignment').get_figure()"
   ]
  }
 ],
 "metadata": {
  "kernelspec": {
   "display_name": "Python 3 (ipykernel)",
   "language": "python",
   "name": "python3"
  },
  "language_info": {
   "codemirror_mode": {
    "name": "ipython",
    "version": 3
   },
   "file_extension": ".py",
   "mimetype": "text/x-python",
   "name": "python",
   "nbconvert_exporter": "python",
   "pygments_lexer": "ipython3",
   "version": "3.11.5"
  }
 },
 "nbformat": 4,
 "nbformat_minor": 5
}
