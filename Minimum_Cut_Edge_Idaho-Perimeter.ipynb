{
 "cells": [
  {
   "cell_type": "code",
   "execution_count": null,
   "id": "0e441fab-d350-4aba-abed-b57e2ff12588",
   "metadata": {},
   "outputs": [],
   "source": [
    "# import graph from gerrychain \n",
    "from gerrychain import Graph\n",
    "\n",
    "\n",
    "# Read Idaho county graph from the json file \"ID_county.json\"\n",
    "filepath = \"C:\\\\Users\\\\Dayton's Laptop\\\\Downloads\\\\ID_Data\\\\\"\n",
    "filename = 'ID_county.json'\n",
    "\n",
    "G = Graph.from_json(filepath + filename)"
   ]
  },
  {
   "cell_type": "code",
   "execution_count": null,
   "id": "af5d2d6e-f263-4b21-a2fc-cbe10f13aabb",
   "metadata": {},
   "outputs": [],
   "source": [
    "# For each node, print the node #, county name, and its population\n",
    "for node in G.nodes:\n",
    "    G.nodes[node]['TOTPOP'] = G.nodes[node]['P0010001']"
   ]
  },
  {
   "cell_type": "code",
   "execution_count": null,
   "id": "661d0ac0-479e-46c8-ad10-28c252eadc0f",
   "metadata": {},
   "outputs": [],
   "source": [
    "# Let's impose a 1% population deviation (+/-.05%)\n",
    "deviation = 0.01\n",
    "\n",
    "import math\n",
    "k = 2          # Number of districts in Idaho\n",
    "total_population = sum( G.nodes[node]['TOTPOP'] for node in G.nodes )\n",
    "\n",
    "L = math.ceil( ( 1 - deviation / 2 ) * total_population / k )\n",
    "U = math.floor( ( 1 + deviation / 2 ) * total_population / k )\n",
    "print(\"Using L =\",L,\"and U =\",U,\"and k =\",k)"
   ]
  },
  {
   "cell_type": "code",
   "execution_count": null,
   "id": "7cc0cf52-2ad8-4325-97d0-6690b724e3c8",
   "metadata": {},
   "outputs": [],
   "source": [
    "import gurobipy as gp \n",
    "from gurobipy import GRB\n",
    "\n",
    "# create model \n",
    "m = gp.Model()\n",
    "\n",
    "# create variables\n",
    "x = m.addVars(G.nodes, k, vtype=GRB.BINARY) # x[i,j] equals one when county i is assigned to district j\n",
    "y = m.addVars(G.edges, vtype=GRB.BINARY)    # y[u,v] equals one when edge {u,v} is cut"
   ]
  },
  {
   "cell_type": "code",
   "execution_count": null,
   "id": "a330f55e-1bc2-4762-9bc2-1bb123e8f758",
   "metadata": {},
   "outputs": [],
   "source": [
    "# objective is to minimize weighted cut edges (district perimeter lengths)\n",
    "m.setObjective( gp.quicksum( G.edges[u,v]['shared_perim'] * y[u,v] for u,v in G.edges ), GRB.MINIMIZE )"
   ]
  },
  {
   "cell_type": "code",
   "execution_count": null,
   "id": "c8512502-422f-4305-9a9f-417ad8af344e",
   "metadata": {},
   "outputs": [],
   "source": [
    "# add constraints saying that each county i is assigned to one district\n",
    "m.addConstrs( gp.quicksum( x[i,j] for j in range(k)) == 1 for i in G.nodes )\n",
    "\n",
    "# add constraints saying that each district has population at least L and at most U\n",
    "m.addConstrs( gp.quicksum( G.nodes[i]['TOTPOP'] * x[i,j] for i in G.nodes) >= L for j in range(k) )\n",
    "m.addConstrs( gp.quicksum( G.nodes[i]['TOTPOP'] * x[i,j] for i in G.nodes) <= U for j in range(k) )\n",
    "\n",
    "# add constraints saying that edge {u,v} is cut if u is assigned to district j but v is not.\n",
    "m.addConstrs( x[u,j] - x[v,j] <= y[u,v] for u,v in G.edges for j in range(k) )\n",
    "\n",
    "m.update()"
   ]
  },
  {
   "cell_type": "code",
   "execution_count": null,
   "id": "d5783930-3bf6-47e4-98e4-6ee55f3f4caa",
   "metadata": {},
   "outputs": [],
   "source": [
    "# Now, let's add contiguity constraints and re-solve the model.\n",
    "# We will use the contiguity constraints of Hojny et al. (MPC, 2021)\n",
    "#   https://link.springer.com/article/10.1007/s12532-020-00186-3\n",
    "\n",
    "# Add root variables: r[i,j] equals 1 if node i is the \"root\" of district j\n",
    "r = m.addVars( G.nodes, k, vtype=GRB.BINARY)\n",
    "\n",
    "# Add flow variables: f[u,v] = amount of flow sent across arc uv \n",
    "#  Flows are sent across arcs of the directed version of G which we call DG\n",
    "\n",
    "import networkx as nx\n",
    "DG = nx.DiGraph(G)      # directed version of G\n",
    "\n",
    "f = m.addVars( DG.edges )"
   ]
  },
  {
   "cell_type": "code",
   "execution_count": null,
   "id": "47ecaf9e-3fbc-4a8f-b845-612045f2b9cd",
   "metadata": {},
   "outputs": [],
   "source": [
    "# The big-M proposed by Hojny et al.\n",
    "M = G.number_of_nodes() - k + 1\n",
    "\n",
    "# Each district j should have one root\n",
    "m.addConstrs( gp.quicksum( r[i,j] for i in G.nodes ) == 1 for j in range(k) )\n",
    "\n",
    "# If node i is not assigned to district j, then it cannot be its root\n",
    "m.addConstrs( r[i,j] <= x[i,j] for i in G.nodes for j in range(k) ) \n",
    "\n",
    "# if not a root, consume some flow.\n",
    "# if a root, only send out (so much) flow.\n",
    "m.addConstrs( gp.quicksum( f[j,i] - f[i,j] for j in G.neighbors(i) ) \n",
    "             >= 1 - M * gp.quicksum( r[i,j] for j in range(k) ) for i in G.nodes )\n",
    "\n",
    "# do not send flow across cut edges\n",
    "m.addConstrs( f[i,j] + f[j,i] <= M * ( 1 - y[i,j] ) for i,j in G.edges )\n",
    "\n",
    "m.update()"
   ]
  },
  {
   "cell_type": "code",
   "execution_count": null,
   "id": "c8610847-3f8d-4b7c-b130-15283e8606cd",
   "metadata": {},
   "outputs": [],
   "source": [
    "# solve IP model\n",
    "m.optimize()"
   ]
  },
  {
   "cell_type": "code",
   "execution_count": null,
   "id": "0aa0bb16-37ed-46b6-ba4f-65f7d82729bf",
   "metadata": {},
   "outputs": [],
   "source": [
    "print(\"The number of cut edges is\",m.objval)\n",
    "\n",
    "# retrieve the districts and their populations\n",
    "districts = [ [i for i in G.nodes if x[i,j].x > 0.5] for j in range(k)]\n",
    "district_counties = [ [ G.nodes[i][\"NAME20\"] for i in districts[j] ] for j in range(k)]\n",
    "district_populations = [ sum(G.nodes[i][\"TOTPOP\"] for i in districts[j]) for j in range(k) ]\n",
    "\n",
    "# print district info\n",
    "for j in range(k):\n",
    "    print(\"District\",j,\"has population\",district_populations[j],\"and contains counties\",district_counties[j])\n",
    "    print(\"\")"
   ]
  },
  {
   "cell_type": "code",
   "execution_count": null,
   "id": "273604c0-3279-494b-a89c-117d466e5253",
   "metadata": {},
   "outputs": [],
   "source": [
    "# Let's draw it on a map\n",
    "import geopandas as gpd"
   ]
  },
  {
   "cell_type": "code",
   "execution_count": null,
   "id": "30401cd3-e948-4404-88af-e467138c0d8c",
   "metadata": {},
   "outputs": [],
   "source": [
    "filepath = \"C:\\\\Users\\\\Dayton's Laptop\\\\Downloads\\\\ID_Data\\\\\"\n",
    "filename = 'ID_county.shp'\n",
    "\n",
    "df = gpd.read_file(filepath + filename)"
   ]
  },
  {
   "cell_type": "code",
   "execution_count": null,
   "id": "91fbd951-947a-4235-a42c-cb1db837d18d",
   "metadata": {},
   "outputs": [],
   "source": [
    "# Which district is each county assigned to?\n",
    "assignment = [ -1 for i in G.nodes ]\n",
    "\n",
    "labeling = { i : j for i in G.nodes for j in range(k) if x[i,j].x > 0.5 }\n",
    "\n",
    "# Now add the assignments to a column of the dataframe and map it\n",
    "node_with_this_geoid = { G.nodes[i]['GEOID20'] : i for i in G.nodes }\n",
    "\n",
    "# pick a position u in the dataframe\n",
    "for u in range(G.number_of_nodes()):\n",
    "    \n",
    "    geoid = df['GEOID20'][u]\n",
    "    \n",
    "    # what node in G has this geoid?\n",
    "    i = node_with_this_geoid[geoid]\n",
    "    \n",
    "    # position u in the dataframe should be given\n",
    "    # the same district # that county i has in 'labeling'\n",
    "    assignment[u] = labeling[i]\n",
    "    \n",
    "# now add the assignments to a column of our dataframe and then map it\n",
    "df['assignment'] = assignment\n",
    "\n",
    "my_fig = df.plot(column='assignment').get_figure()"
   ]
  },
  {
   "cell_type": "code",
   "execution_count": null,
   "id": "fc075e10-e713-41f9-beb5-d14588bc9133",
   "metadata": {},
   "outputs": [],
   "source": []
  },
  {
   "cell_type": "code",
   "execution_count": null,
   "id": "d3302f07-7393-4255-8617-c2d78d30cc7f",
   "metadata": {},
   "outputs": [],
   "source": []
  }
 ],
 "metadata": {
  "kernelspec": {
   "display_name": "Python [conda env:base] *",
   "language": "python",
   "name": "conda-base-py"
  },
  "language_info": {
   "codemirror_mode": {
    "name": "ipython",
    "version": 3
   },
   "file_extension": ".py",
   "mimetype": "text/x-python",
   "name": "python",
   "nbconvert_exporter": "python",
   "pygments_lexer": "ipython3",
   "version": "3.12.7"
  }
 },
 "nbformat": 4,
 "nbformat_minor": 5
}
